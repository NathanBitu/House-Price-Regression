{
 "cells": [
  {
   "cell_type": "code",
   "execution_count": 1,
   "metadata": {},
   "outputs": [],
   "source": [
    "import pandas as pd\n",
    "import numpy as np\n",
    "import seaborn as sns\n",
    "import matplotlib.pyplot as plt\n",
    "\n",
    "path = r\"Data\\\\\""
   ]
  },
  {
   "cell_type": "code",
   "execution_count": 2,
   "metadata": {},
   "outputs": [],
   "source": [
    "from TransformData import transform_data\n",
    "data_generator = transform_data(path = path + 'train.csv')\n",
    "data = data_generator.get_data(train_or_analysis = 'train')"
   ]
  },
  {
   "cell_type": "code",
   "execution_count": 4,
   "metadata": {},
   "outputs": [
    {
     "name": "stdout",
     "output_type": "stream",
     "text": [
      "[0]\tvalidation_0-rmse:11.22846\tvalidation_1-rmse:11.20917\n",
      "[100]\tvalidation_0-rmse:0.79139\tvalidation_1-rmse:0.78287\n",
      "[200]\tvalidation_0-rmse:0.19674\tvalidation_1-rmse:0.20916\n",
      "[300]\tvalidation_0-rmse:0.15780\tvalidation_1-rmse:0.17411\n",
      "[400]\tvalidation_0-rmse:0.14893\tvalidation_1-rmse:0.16625\n",
      "[500]\tvalidation_0-rmse:0.14534\tvalidation_1-rmse:0.16308\n",
      "[600]\tvalidation_0-rmse:0.14341\tvalidation_1-rmse:0.16145\n",
      "[700]\tvalidation_0-rmse:0.14226\tvalidation_1-rmse:0.16063\n",
      "[800]\tvalidation_0-rmse:0.14143\tvalidation_1-rmse:0.16000\n",
      "[900]\tvalidation_0-rmse:0.14064\tvalidation_1-rmse:0.15945\n",
      "[1000]\tvalidation_0-rmse:0.13993\tvalidation_1-rmse:0.15893\n",
      "[1100]\tvalidation_0-rmse:0.13928\tvalidation_1-rmse:0.15846\n",
      "[1200]\tvalidation_0-rmse:0.13860\tvalidation_1-rmse:0.15795\n",
      "[1300]\tvalidation_0-rmse:0.13806\tvalidation_1-rmse:0.15754\n",
      "[1400]\tvalidation_0-rmse:0.13773\tvalidation_1-rmse:0.15736\n",
      "[1432]\tvalidation_0-rmse:0.13743\tvalidation_1-rmse:0.15720\n"
     ]
    }
   ],
   "source": [
    "from xgboost import XGBRegressor\n",
    "from sklearn.model_selection import train_test_split, cross_val_score\n",
    "from sklearn.linear_model import LinearRegression\n",
    "\n",
    "params = {'lambda': 3.792404253903758, 'alpha': 3.720406654006611, 'colsample_bytree': 0.4, 'subsample': 0.8, 'learning_rate': 0.027569142191457396, 'max_depth': 7, 'random_state': 1, 'min_child_weight': 26}\n",
    "x = data.drop('SalePrice', axis = 1)\n",
    "y = data['SalePrice']\n",
    "x_train, x_test, y_train, y_test = train_test_split(x, y, train_size = 0.3, random_state=1)\n",
    "reg = XGBRegressor(eval_metric= 'rmse', n_estimators = 1433, **params)#, early_stopping_rounds = 50, **params)\n",
    "reg.fit(x_train, y_train, \n",
    "        eval_set=[(x_train, y_train), (x_test, y_test)],\n",
    "        verbose=100)\n",
    "y_pred = reg.predict(x_test)"
   ]
  },
  {
   "cell_type": "code",
   "execution_count": 6,
   "metadata": {},
   "outputs": [
    {
     "name": "stdout",
     "output_type": "stream",
     "text": [
      "---------test------------\n",
      "R²: 0.85\n",
      "MSE: 0.02\n",
      "RMSE: 0.1572\n",
      "MAPE: 0.91%\n"
     ]
    }
   ],
   "source": [
    "from sklearn.metrics import mean_squared_error, mean_absolute_percentage_error, r2_score\n",
    "\n",
    "mse = mean_squared_error(y_test, y_pred)\n",
    "mape = mean_absolute_percentage_error(y_test, y_pred)\n",
    "r2 = r2_score(y_test, y_pred)\n",
    "\n",
    "print('---------test------------')\n",
    "print(\"R²: %.2f\" % r2)\n",
    "print(\"MSE: %.2f\" % mse)\n",
    "print(\"RMSE: %.4f\" % np.sqrt(mse))\n",
    "print(\"MAPE: %.2f\" % (mape * 100) + '%')"
   ]
  },
  {
   "cell_type": "code",
   "execution_count": 5,
   "metadata": {},
   "outputs": [
    {
     "data": {
      "text/plain": [
       "-0.1282965087515252"
      ]
     },
     "execution_count": 5,
     "metadata": {},
     "output_type": "execute_result"
    }
   ],
   "source": [
    "tests = cross_val_score(reg, x_test, y_test, cv = 5, n_jobs = -1,scoring = 'neg_root_mean_squared_error')\n",
    "np.mean(tests)"
   ]
  },
  {
   "cell_type": "code",
   "execution_count": null,
   "metadata": {},
   "outputs": [],
   "source": [
    "def objective(trial):\n",
    "    x = data.drop('SalePrice', axis = 1)\n",
    "    y = data['SalePrice']\n",
    "    \n",
    "    x_train, x_test, y_train, y_test = train_test_split(x, y, train_size = 0.3, random_state=1)\n",
    "    param = {\n",
    "        'lambda': trial.suggest_float('lambda', 1e-3, 10.0),\n",
    "        'alpha': trial.suggest_float('alpha', 1e-3, 10.0),\n",
    "        'colsample_bytree': trial.suggest_categorical('colsample_bytree', [0.3,0.4,0.5,0.6,0.7,0.8,0.9, 1.0]),\n",
    "        'subsample': trial.suggest_categorical('subsample', [0.4,0.5,0.6,0.7,0.8,1.0]),\n",
    "        'learning_rate': trial.suggest_float('learning_rate', 1e-3, 1e-1),\n",
    "        'n_estimators': 10000,\n",
    "        'max_depth': trial.suggest_categorical('max_depth', [5,7,9,11,13,15,17]),\n",
    "        'random_state': trial.suggest_categorical('random_state', [1]),\n",
    "        'min_child_weight': trial.suggest_int('min_child_weight', 1, 300),\n",
    "    }\n",
    "    model = XGBRegressor(**param, eval_metric= 'rmse')  \n",
    "    model.fit(x_train,y_train,eval_set=[(x_train, y_train), (x_test, y_test)],verbose=False)\n",
    "    preds = model.predict(x_test)\n",
    "    tests = cross_val_score(model, x_test, y_test, cv = 5, n_jobs = -1,scoring = 'neg_root_mean_squared_error')\n",
    "    return np.mean(tests)"
   ]
  },
  {
   "cell_type": "code",
   "execution_count": null,
   "metadata": {},
   "outputs": [],
   "source": [
    "import optuna\n",
    "\n",
    "study = optuna.create_study(direction='maximize')\n",
    "study.optimize(objective, n_trials=30)\n",
    "print('Number of finished trials:', len(study.trials))\n",
    "print('Best trial:', study.best_trial.params)"
   ]
  },
  {
   "cell_type": "code",
   "execution_count": 7,
   "metadata": {},
   "outputs": [
    {
     "data": {
      "text/html": [
       "<div>\n",
       "<style scoped>\n",
       "    .dataframe tbody tr th:only-of-type {\n",
       "        vertical-align: middle;\n",
       "    }\n",
       "\n",
       "    .dataframe tbody tr th {\n",
       "        vertical-align: top;\n",
       "    }\n",
       "\n",
       "    .dataframe thead th {\n",
       "        text-align: right;\n",
       "    }\n",
       "</style>\n",
       "<table border=\"1\" class=\"dataframe\">\n",
       "  <thead>\n",
       "    <tr style=\"text-align: right;\">\n",
       "      <th></th>\n",
       "      <th>feature_importances</th>\n",
       "    </tr>\n",
       "  </thead>\n",
       "  <tbody>\n",
       "    <tr>\n",
       "      <th>GarageCond_TA</th>\n",
       "      <td>0.143914</td>\n",
       "    </tr>\n",
       "    <tr>\n",
       "      <th>FullBath</th>\n",
       "      <td>0.121237</td>\n",
       "    </tr>\n",
       "    <tr>\n",
       "      <th>CentralAir_N</th>\n",
       "      <td>0.080009</td>\n",
       "    </tr>\n",
       "    <tr>\n",
       "      <th>ExterQual_TA</th>\n",
       "      <td>0.079460</td>\n",
       "    </tr>\n",
       "    <tr>\n",
       "      <th>OverallQual</th>\n",
       "      <td>0.079240</td>\n",
       "    </tr>\n",
       "    <tr>\n",
       "      <th>...</th>\n",
       "      <td>...</td>\n",
       "    </tr>\n",
       "    <tr>\n",
       "      <th>RoofMatl_Roll</th>\n",
       "      <td>0.000000</td>\n",
       "    </tr>\n",
       "    <tr>\n",
       "      <th>RoofMatl_Tar&amp;Grv</th>\n",
       "      <td>0.000000</td>\n",
       "    </tr>\n",
       "    <tr>\n",
       "      <th>RoofMatl_WdShake</th>\n",
       "      <td>0.000000</td>\n",
       "    </tr>\n",
       "    <tr>\n",
       "      <th>RoofMatl_WdShngl</th>\n",
       "      <td>0.000000</td>\n",
       "    </tr>\n",
       "    <tr>\n",
       "      <th>SaleCondition_Partial</th>\n",
       "      <td>0.000000</td>\n",
       "    </tr>\n",
       "  </tbody>\n",
       "</table>\n",
       "<p>303 rows × 1 columns</p>\n",
       "</div>"
      ],
      "text/plain": [
       "                       feature_importances\n",
       "GarageCond_TA                     0.143914\n",
       "FullBath                          0.121237\n",
       "CentralAir_N                      0.080009\n",
       "ExterQual_TA                      0.079460\n",
       "OverallQual                       0.079240\n",
       "...                                    ...\n",
       "RoofMatl_Roll                     0.000000\n",
       "RoofMatl_Tar&Grv                  0.000000\n",
       "RoofMatl_WdShake                  0.000000\n",
       "RoofMatl_WdShngl                  0.000000\n",
       "SaleCondition_Partial             0.000000\n",
       "\n",
       "[303 rows x 1 columns]"
      ]
     },
     "execution_count": 7,
     "metadata": {},
     "output_type": "execute_result"
    }
   ],
   "source": [
    "importances = pd.DataFrame(columns = ['feature_importances'], data = reg.feature_importances_, index = reg.feature_names_in_).sort_values(by = 'feature_importances', ascending = False)\n",
    "\n",
    "\n",
    "zero_importance= list(importances.loc[importances['feature_importances'] == 0].reset_index()['index'])\n",
    "importances"
   ]
  },
  {
   "cell_type": "code",
   "execution_count": null,
   "metadata": {},
   "outputs": [],
   "source": []
  }
 ],
 "metadata": {
  "kernelspec": {
   "display_name": "teste",
   "language": "python",
   "name": "python3"
  },
  "language_info": {
   "codemirror_mode": {
    "name": "ipython",
    "version": 3
   },
   "file_extension": ".py",
   "mimetype": "text/x-python",
   "name": "python",
   "nbconvert_exporter": "python",
   "pygments_lexer": "ipython3",
   "version": "3.9.7"
  },
  "orig_nbformat": 4
 },
 "nbformat": 4,
 "nbformat_minor": 2
}
